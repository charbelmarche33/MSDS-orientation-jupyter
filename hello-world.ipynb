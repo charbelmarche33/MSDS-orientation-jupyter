{
 "cells": [
  {
   "cell_type": "markdown",
   "id": "bae8bc53-ed0a-41da-aa43-810dd43c4782",
   "metadata": {},
   "source": [
    "# Hello World Demo"
   ]
  },
  {
   "cell_type": "code",
   "execution_count": 5,
   "id": "01c8b117-fa84-45cb-b6de-a68821794b4f",
   "metadata": {},
   "outputs": [
    {
     "name": "stdout",
     "output_type": "stream",
     "text": [
      "Hello World\n"
     ]
    }
   ],
   "source": [
    "print(\"Hello World\")"
   ]
  },
  {
   "cell_type": "code",
   "execution_count": null,
   "id": "5cf41022-a7c8-4682-b7d4-1734f77241c4",
   "metadata": {},
   "outputs": [],
   "source": []
  }
 ],
 "metadata": {
  "kernelspec": {
   "display_name": "Python 3 (ipykernel)",
   "language": "python",
   "name": "python3"
  },
  "language_info": {
   "codemirror_mode": {
    "name": "ipython",
    "version": 3
   },
   "file_extension": ".py",
   "mimetype": "text/x-python",
   "name": "python",
   "nbconvert_exporter": "python",
   "pygments_lexer": "ipython3",
   "version": "3.12.3"
  }
 },
 "nbformat": 4,
 "nbformat_minor": 5
}
